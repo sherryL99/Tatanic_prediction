{
 "cells": [
  {
   "cell_type": "code",
   "execution_count": 1,
   "metadata": {
    "_cell_guid": "9c3581fa-95bc-4f96-bc15-f6c1277caf05",
    "_uuid": "1b1dcd7072d5771a5a934c13635521f2927636a6"
   },
   "outputs": [],
   "source": [
    "# 必要的引入\n",
    "%matplotlib inline\n",
    "import os\n",
    "import pandas as pd\n",
    "import numpy as np\n",
    "import seaborn as sns\n",
    "import matplotlib.pyplot as plt\n",
    "import warnings\n",
    "warnings.filterwarnings('ignore')"
   ]
  },
  {
   "cell_type": "markdown",
   "metadata": {
    "_cell_guid": "b5cd0465-021a-49d3-9675-880eaaf5ce33",
    "_uuid": "d6de478d0532582de3272859f0fb475d46b23ad5"
   },
   "source": [
    "#### Load data "
   ]
  },
  {
   "cell_type": "code",
   "execution_count": 36,
   "metadata": {
    "_cell_guid": "17be4c07-7e0c-42fd-82f9-75ba23eb2b56",
    "_uuid": "63b0aa07a040aac1f6b254f55d5daab670aa2981"
   },
   "outputs": [
    {
     "data": {
      "text/html": [
       "<div>\n",
       "<style scoped>\n",
       "    .dataframe tbody tr th:only-of-type {\n",
       "        vertical-align: middle;\n",
       "    }\n",
       "\n",
       "    .dataframe tbody tr th {\n",
       "        vertical-align: top;\n",
       "    }\n",
       "\n",
       "    .dataframe thead th {\n",
       "        text-align: right;\n",
       "    }\n",
       "</style>\n",
       "<table border=\"1\" class=\"dataframe\">\n",
       "  <thead>\n",
       "    <tr style=\"text-align: right;\">\n",
       "      <th></th>\n",
       "      <th>row.names</th>\n",
       "      <th>pclass</th>\n",
       "      <th>survived</th>\n",
       "      <th>name</th>\n",
       "      <th>age</th>\n",
       "      <th>embarked</th>\n",
       "      <th>home.dest</th>\n",
       "      <th>room</th>\n",
       "      <th>ticket</th>\n",
       "      <th>boat</th>\n",
       "      <th>sex</th>\n",
       "    </tr>\n",
       "  </thead>\n",
       "  <tbody>\n",
       "    <tr>\n",
       "      <th>0</th>\n",
       "      <td>1</td>\n",
       "      <td>1st</td>\n",
       "      <td>1</td>\n",
       "      <td>Allen, Miss Elisabeth Walton</td>\n",
       "      <td>29.0</td>\n",
       "      <td>Southampton</td>\n",
       "      <td>St Louis, MO</td>\n",
       "      <td>B-5</td>\n",
       "      <td>24160 L221</td>\n",
       "      <td>2</td>\n",
       "      <td>female</td>\n",
       "    </tr>\n",
       "    <tr>\n",
       "      <th>1</th>\n",
       "      <td>2</td>\n",
       "      <td>1st</td>\n",
       "      <td>0</td>\n",
       "      <td>Allison, Miss Helen Loraine</td>\n",
       "      <td>2.0</td>\n",
       "      <td>Southampton</td>\n",
       "      <td>Montreal, PQ / Chesterville, ON</td>\n",
       "      <td>C26</td>\n",
       "      <td>NaN</td>\n",
       "      <td>NaN</td>\n",
       "      <td>female</td>\n",
       "    </tr>\n",
       "    <tr>\n",
       "      <th>2</th>\n",
       "      <td>3</td>\n",
       "      <td>1st</td>\n",
       "      <td>0</td>\n",
       "      <td>Allison, Mr Hudson Joshua Creighton</td>\n",
       "      <td>30.0</td>\n",
       "      <td>Southampton</td>\n",
       "      <td>Montreal, PQ / Chesterville, ON</td>\n",
       "      <td>C26</td>\n",
       "      <td>NaN</td>\n",
       "      <td>(135)</td>\n",
       "      <td>male</td>\n",
       "    </tr>\n",
       "  </tbody>\n",
       "</table>\n",
       "</div>"
      ],
      "text/plain": [
       "   row.names pclass  survived                                 name   age  \\\n",
       "0          1    1st         1         Allen, Miss Elisabeth Walton  29.0   \n",
       "1          2    1st         0          Allison, Miss Helen Loraine   2.0   \n",
       "2          3    1st         0  Allison, Mr Hudson Joshua Creighton  30.0   \n",
       "\n",
       "      embarked                        home.dest room      ticket   boat  \\\n",
       "0  Southampton                     St Louis, MO  B-5  24160 L221      2   \n",
       "1  Southampton  Montreal, PQ / Chesterville, ON  C26         NaN    NaN   \n",
       "2  Southampton  Montreal, PQ / Chesterville, ON  C26         NaN  (135)   \n",
       "\n",
       "      sex  \n",
       "0  female  \n",
       "1  female  \n",
       "2    male  "
      ]
     },
     "execution_count": 36,
     "metadata": {},
     "output_type": "execute_result"
    }
   ],
   "source": [
    "data = pd.read_csv(os.path.join(\"./\", \"titanic.csv\"), sep=\",\")\n",
    "#data.info()\n",
    "data.head(3)"
   ]
  },
  {
   "cell_type": "markdown",
   "metadata": {
    "_cell_guid": "8bf0cbad-0b9f-4664-aab1-e2060b0bfd66",
    "_uuid": "340d944405842501c175a4e97da97c72d39324f7"
   },
   "source": [
    "#### Obeservation"
   ]
  },
  {
   "cell_type": "code",
   "execution_count": 5,
   "metadata": {
    "_cell_guid": "f4ef07de-c1dd-4199-b9f9-0200e8fb1537",
    "_uuid": "ad31ed48cec7dcd4b033b6dc818362c5d4c1a74f"
   },
   "outputs": [
    {
     "data": {
      "text/plain": [
       "0    0.658035\n",
       "1    0.341965\n",
       "Name: survived, dtype: float64"
      ]
     },
     "execution_count": 5,
     "metadata": {},
     "output_type": "execute_result"
    }
   ],
   "source": [
    "data['survived'].value_counts(normalize=True)"
   ]
  },
  {
   "cell_type": "code",
   "execution_count": 6,
   "metadata": {
    "_cell_guid": "9be1200e-dcc8-45d4-9d4c-e2a3bb144414",
    "_uuid": "7052a19e5d05d703d3df003046a0fce99ae38432"
   },
   "outputs": [
    {
     "data": {
      "text/plain": [
       "<matplotlib.axes._subplots.AxesSubplot at 0x1a1aa22890>"
      ]
     },
     "execution_count": 6,
     "metadata": {},
     "output_type": "execute_result"
    },
    {
     "data": {
      "image/png": "[encoded data removed]",
      "text/plain": [
       "<Figure size 432x288 with 1 Axes>"
      ]
     },
     "metadata": {
      "needs_background": "light"
     },
     "output_type": "display_data"
    }
   ],
   "source": [
    "sns.countplot(data['survived'])"
   ]
  },
  {
   "cell_type": "markdown",
   "metadata": {
    "_cell_guid": "9d400b88-ebe5-4e24-98da-5372ad5336a3",
    "_uuid": "d59869be0d5d9c7f1fa962401965d815d424b904"
   },
   "source": [
    "#### Pclass vs Survived"
   ]
  },
  {
   "cell_type": "code",
   "execution_count": 7,
   "metadata": {
    "_cell_guid": "eead5d2d-20ca-4a08-8978-86d751368d53",
    "_uuid": "e0c07eab01a33e2cb69ab5179d53271313f61dc5"
   },
   "outputs": [
    {
     "data": {
      "text/plain": [
       "<matplotlib.axes._subplots.AxesSubplot at 0x1a1b3a97d0>"
      ]
     },
     "execution_count": 7,
     "metadata": {},
     "output_type": "execute_result"
    },
    {
     "data": {
      "image/png": "[encoded data removed]",
      "text/plain": [
       "<Figure size 432x288 with 1 Axes>"
      ]
     },
     "metadata": {
      "needs_background": "light"
     },
     "output_type": "display_data"
    }
   ],
   "source": [
    "sns.countplot(data['pclass'], hue=data['survived'])"
   ]
  },
  {
   "cell_type": "markdown",
   "metadata": {
    "_cell_guid": "d4eb4491-e844-4905-ac2e-922adfad9676",
    "_uuid": "cc019aac06a4fb8eaa0ee80fbe65594bde272df3"
   },
   "source": [
    "#### name info"
   ]
  },
  {
   "cell_type": "code",
   "execution_count": 8,
   "metadata": {
    "_cell_guid": "8f44692c-b929-41d8-848b-e3b721203f33",
    "_uuid": "ee51a4f7812417f0ce9f62480204726d413aab2b"
   },
   "outputs": [
    {
     "data": {
      "text/plain": [
       "0                       Allen, Miss Elisabeth Walton\n",
       "1                        Allison, Miss Helen Loraine\n",
       "2                Allison, Mr Hudson Joshua Creighton\n",
       "3    Allison, Mrs Hudson J.C. (Bessie Waldo Daniels)\n",
       "4                      Allison, Master Hudson Trevor\n",
       "Name: name, dtype: object"
      ]
     },
     "execution_count": 8,
     "metadata": {},
     "output_type": "execute_result"
    }
   ],
   "source": [
    "data['name'].head()"
   ]
  },
  {
   "cell_type": "markdown",
   "metadata": {
    "_cell_guid": "cf0eeccd-b141-415b-a5d4-fe10fc4cf5d6",
    "_uuid": "cff82b887a39a6a9d2ed44b119801b20c4121c47"
   },
   "source": [
    "#### transform attribution of name, getting title of name"
   ]
  },
  {
   "cell_type": "code",
   "execution_count": 9,
   "metadata": {
    "_cell_guid": "2d620fc5-da04-4a6b-85f8-8bdb19b05e97",
    "_uuid": "f6f2417133a2e0395a240dbf96a3a80a4e0450f9"
   },
   "outputs": [],
   "source": [
    "data['name_title'] = data['name'].apply(lambda x: x.split(',')[1] if len(x.split(',')) > 1 else x.split(',')[0]).apply(lambda x: x.split()[0])"
   ]
  },
  {
   "cell_type": "code",
   "execution_count": 10,
   "metadata": {
    "_cell_guid": "9840426d-d6a6-44e0-b21a-5169edbdab3c",
    "_uuid": "3c6bbb305ab2e2349911271d9a8f185e185e6b17"
   },
   "outputs": [
    {
     "data": {
      "text/plain": [
       "Mr           747\n",
       "Miss         236\n",
       "Mrs          200\n",
       "Master        59\n",
       "Ms            17\n",
       "Dr             7\n",
       "Rev            6\n",
       "Thomas         2\n",
       "Colonel        2\n",
       "Major          2\n",
       "Col            2\n",
       "Rev.           2\n",
       "the            1\n",
       "Dr.            1\n",
       "W.             1\n",
       "Richard        1\n",
       "Oscar          1\n",
       "Jacobsohn      1\n",
       "Hilda          1\n",
       "Mlle           1\n",
       "Eino           1\n",
       "Albert         1\n",
       "Delia          1\n",
       "Mlle.          1\n",
       "Simon          1\n",
       "Seman          1\n",
       "Nils           1\n",
       "Khalil         1\n",
       "Sir            1\n",
       "Nikolai        1\n",
       "Jonkheer       1\n",
       "Sander         1\n",
       "Jenny          1\n",
       "Rene           1\n",
       "Madame         1\n",
       "William        1\n",
       "Barton         1\n",
       "Leo            1\n",
       "Mansouer       1\n",
       "Captain        1\n",
       "Lady           1\n",
       "Berglund.      1\n",
       "Ernst          1\n",
       "Name: name_title, dtype: int64"
      ]
     },
     "execution_count": 10,
     "metadata": {},
     "output_type": "execute_result"
    }
   ],
   "source": [
    "data['name_title'].value_counts()"
   ]
  },
  {
   "cell_type": "markdown",
   "metadata": {
    "_cell_guid": "903e5a09-06ef-43b6-8be4-9f4e9bd47657",
    "_uuid": "065c423147b70f124e10a62398ec0595383c64d8"
   },
   "source": [
    "#### Title of name vs Survived"
   ]
  },
  {
   "cell_type": "code",
   "execution_count": 11,
   "metadata": {
    "_cell_guid": "67e56a9c-bcdc-4d8e-823d-d26c8d6f61a7",
    "_uuid": "1925e8e15da8df07199e193a6efca1e2195f8fc0"
   },
   "outputs": [
    {
     "data": {
      "text/plain": [
       "name_title\n",
       "Albert       0.000000\n",
       "Barton       0.000000\n",
       "Berglund.    0.000000\n",
       "Captain      0.000000\n",
       "Col          0.500000\n",
       "Colonel      0.500000\n",
       "Delia        0.000000\n",
       "Dr           0.428571\n",
       "Dr.          1.000000\n",
       "Eino         1.000000\n",
       "Ernst        0.000000\n",
       "Hilda        1.000000\n",
       "Jacobsohn    0.000000\n",
       "Jenny        0.000000\n",
       "Jonkheer     0.000000\n",
       "Khalil       1.000000\n",
       "Lady         1.000000\n",
       "Leo          0.000000\n",
       "Madame       1.000000\n",
       "Major        0.500000\n",
       "Mansouer     1.000000\n",
       "Master       0.389831\n",
       "Miss         0.588983\n",
       "Mlle         0.000000\n",
       "Mlle.        1.000000\n",
       "Mr           0.144578\n",
       "Mrs          0.740000\n",
       "Ms           0.823529\n",
       "Nikolai      0.000000\n",
       "Nils         0.000000\n",
       "Oscar        1.000000\n",
       "Rene         0.000000\n",
       "Rev          0.000000\n",
       "Rev.         0.000000\n",
       "Richard      0.000000\n",
       "Sander       0.000000\n",
       "Seman        0.000000\n",
       "Simon        0.000000\n",
       "Sir          1.000000\n",
       "Thomas       0.000000\n",
       "W.           0.000000\n",
       "William      0.000000\n",
       "the          1.000000\n",
       "Name: survived, dtype: float64"
      ]
     },
     "execution_count": 11,
     "metadata": {},
     "output_type": "execute_result"
    }
   ],
   "source": [
    "data['survived'].groupby(data['name_title']).mean()"
   ]
  },
  {
   "cell_type": "markdown",
   "metadata": {
    "_cell_guid": "52e33a3a-f6cd-4fd7-8653-1af07c66097e",
    "_uuid": "0ebb97dd61cbfa3de15cdcccd379259b512db4b8"
   },
   "source": [
    "#### length of name"
   ]
  },
  {
   "cell_type": "code",
   "execution_count": 12,
   "metadata": {
    "_cell_guid": "e40c6bd3-e3d3-45b9-9c20-42fe5465fdfe",
    "_uuid": "15f40ea7716bfdfbd094f98c169f45c767997453"
   },
   "outputs": [],
   "source": [
    "data['name_len'] = data['name'].apply(lambda x: len(x))"
   ]
  },
  {
   "cell_type": "markdown",
   "metadata": {
    "_cell_guid": "4f5e09ac-a38a-4991-a71b-cfe8af344802",
    "_uuid": "f0ed640f5272a3e8a0289dbbbe3c6d845d1d1636"
   },
   "source": [
    "#### Length of name vs Survived"
   ]
  },
  {
   "cell_type": "code",
   "execution_count": 13,
   "metadata": {
    "_cell_guid": "1bfb62bb-c05b-4090-a9eb-901e0973b194",
    "_uuid": "7aa2b538e2849d69b210ef3d54eb5e5ff2c756ff"
   },
   "outputs": [
    {
     "data": {
      "text/plain": [
       "name_len\n",
       "(10.999, 17.0]    0.183746\n",
       "(17.0, 20.0]      0.288321\n",
       "(20.0, 24.0]      0.285171\n",
       "(24.0, 28.0]      0.369295\n",
       "(28.0, 62.0]      0.611111\n",
       "Name: survived, dtype: float64"
      ]
     },
     "execution_count": 13,
     "metadata": {},
     "output_type": "execute_result"
    }
   ],
   "source": [
    "data['survived'].groupby(pd.qcut(data['name_len'], 5)).mean()"
   ]
  },
  {
   "cell_type": "markdown",
   "metadata": {
    "_cell_guid": "364c2e62-bb48-4189-93e0-7725b0772460",
    "_uuid": "6669683c4a7bb40a5f80eb6dbb43ddfd4b7fc24f"
   },
   "source": [
    "#### Sex vs Survived"
   ]
  },
  {
   "cell_type": "code",
   "execution_count": 14,
   "metadata": {
    "_cell_guid": "0ab8d8e1-91f3-4290-b496-c5936ae5ed6e",
    "_uuid": "8d1df3e6c1d411cdbab01bd5ed4d31969aaea8e2"
   },
   "outputs": [
    {
     "data": {
      "text/plain": [
       "male      0.647372\n",
       "female    0.352628\n",
       "Name: sex, dtype: float64"
      ]
     },
     "execution_count": 14,
     "metadata": {},
     "output_type": "execute_result"
    }
   ],
   "source": [
    "data['sex'].value_counts(normalize=True)"
   ]
  },
  {
   "cell_type": "code",
   "execution_count": 15,
   "metadata": {
    "_cell_guid": "bcfebd1c-a655-46fd-aad1-608716f25668",
    "_uuid": "8d07225c393da778988a42734bb038a5bf055411"
   },
   "outputs": [
    {
     "data": {
      "text/plain": [
       "sex\n",
       "female    0.663067\n",
       "male      0.167059\n",
       "Name: survived, dtype: float64"
      ]
     },
     "execution_count": 15,
     "metadata": {},
     "output_type": "execute_result"
    }
   ],
   "source": [
    "data['survived'].groupby(data['sex']).mean()"
   ]
  },
  {
   "cell_type": "markdown",
   "metadata": {
    "_cell_guid": "3477456d-f23b-4b30-89e9-42f06d99cca3",
    "_uuid": "1b9c0605591a050813b1f9eeb7068d64e15886fe"
   },
   "source": [
    "#### Age vs Survived\n",
    "- Missing data preprocessing \n",
    "  1 value: medium or mean  \n",
    "  2 category/feature： major class"
   ]
  },
  {
   "cell_type": "code",
   "execution_count": 16,
   "metadata": {
    "_cell_guid": "2e8b272e-67f1-406d-b048-8b5af81a69ba",
    "_uuid": "4aeebd64c9f5e2abc01252d34d513b3389ba06eb"
   },
   "outputs": [
    {
     "data": {
      "text/plain": [
       "age\n",
       "(0.166, 19.0]    0.578125\n",
       "(19.0, 26.0]     0.354610\n",
       "(26.0, 33.0]     0.400000\n",
       "(33.0, 45.0]     0.447761\n",
       "(45.0, 71.0]     0.443478\n",
       "Name: survived, dtype: float64"
      ]
     },
     "execution_count": 16,
     "metadata": {},
     "output_type": "execute_result"
    }
   ],
   "source": [
    "data['survived'].groupby(pd.qcut(data['age'], 5)).mean()"
   ]
  },
  {
   "cell_type": "markdown",
   "metadata": {
    "_cell_guid": "605e9fa0-ad62-4b4b-abcc-b1a5f2b1df4c",
    "_uuid": "59d5543a91c180df4901e4af2ab39f8fc96d6121"
   },
   "source": [
    "#### Embarked vs Survived"
   ]
  },
  {
   "cell_type": "code",
   "execution_count": 17,
   "metadata": {
    "_cell_guid": "b9632620-7ea9-4697-bb2a-78dfbfd70aa5",
    "_uuid": "cbb82eab2b282d58e2815649e5ff194fd497cfad"
   },
   "outputs": [
    {
     "data": {
      "text/plain": [
       "Southampton    573\n",
       "Cherbourg      203\n",
       "Queenstown      45\n",
       "Name: embarked, dtype: int64"
      ]
     },
     "execution_count": 17,
     "metadata": {},
     "output_type": "execute_result"
    }
   ],
   "source": [
    "data['embarked'].value_counts()\n",
    "data['survived'].groupby(data['embarked']).mean()\n",
    "sns.countplot(data['embarked'], hue=data['pclass'])"
   ]
  },
  {
   "cell_type": "code",
   "execution_count": 18,
   "metadata": {
    "_cell_guid": "c82dcfad-271e-4291-9550-ec0655a6cb8d",
    "_uuid": "4c547af21bde52c7328123ec2fc8ec7427619917"
   },
   "outputs": [
    {
     "data": {
      "text/plain": [
       "embarked\n",
       "Cherbourg      0.586207\n",
       "Queenstown     0.311111\n",
       "Southampton    0.399651\n",
       "Name: survived, dtype: float64"
      ]
     },
     "execution_count": 18,
     "metadata": {},
     "output_type": "execute_result"
    }
   ],
   "source": []
  },
  {
   "cell_type": "code",
   "execution_count": 19,
   "metadata": {
    "_cell_guid": "698894e9-b273-4779-86fc-509513bda5a1",
    "_uuid": "7575cd9fa2c06edd66c02d9786afe0a4804a968f"
   },
   "outputs": [
    {
     "data": {
      "text/plain": [
       "<matplotlib.axes._subplots.AxesSubplot at 0x1a1b4b89d0>"
      ]
     },
     "execution_count": 19,
     "metadata": {},
     "output_type": "execute_result"
    },
    {
     "data": {
      "image/png": "[encoded data removed]",
      "text/plain": [
       "<Figure size 432x288 with 1 Axes>"
      ]
     },
     "metadata": {
      "needs_background": "light"
     },
     "output_type": "display_data"
    }
   ],
   "source": []
  },
  {
   "cell_type": "markdown",
   "metadata": {
    "_cell_guid": "0a48ed9f-2c0d-48a1-a08c-37bbfe178002",
    "_uuid": "dea5f4289a9e45c7191dfd3bcc72ab0476a58c4b"
   },
   "source": [
    "#### Destination vs Survived"
   ]
  },
  {
   "cell_type": "code",
   "execution_count": 20,
   "metadata": {
    "_cell_guid": "fdce8145-d094-44c9-a13d-39ee21f9dcc1",
    "_uuid": "38e0dcef66d9d19310ce2f991a84c570fbddea7e"
   },
   "outputs": [
    {
     "data": {
      "text/plain": [
       "home.dest\n",
       " AB            1.000000\n",
       " AZ            0.000000\n",
       " Australia     0.000000\n",
       " BC            0.250000\n",
       " Birmingham    0.000000\n",
       "                 ...   \n",
       "Russia         1.000000\n",
       "Southampton    0.666667\n",
       "Spain          1.000000\n",
       "Syria          0.000000\n",
       "nan            0.180680\n",
       "Name: survived, Length: 117, dtype: float64"
      ]
     },
     "execution_count": 20,
     "metadata": {},
     "output_type": "execute_result"
    }
   ],
   "source": [
    "data['survived'].groupby(data['home.dest'].apply(lambda x: str(x).split(',')[-1])).mean()"
   ]
  },
  {
   "cell_type": "markdown",
   "metadata": {
    "_cell_guid": "93ca4818-ea39-4200-9d16-c15928548b33",
    "_uuid": "7b91f188a987b0d4988beae6ea188bd75a9e63ee"
   },
   "source": [
    "#### room, ticket, boat missing too much，abandoned"
   ]
  },
  {
   "cell_type": "markdown",
   "metadata": {
    "_cell_guid": "aff533a5-b841-4d68-9eb1-d72098cf22be",
    "_uuid": "fe34b9757ee6a5026bd0f28b8baec67d733fd8bc"
   },
   "source": [
    " \n"
   ]
  },
  {
   "cell_type": "markdown",
   "metadata": {
    "_cell_guid": "df307897-6698-46ac-a4ad-310a0dc9398f",
    "_uuid": "766a17110837ced1ccb82330852497ae8bd0fa05"
   },
   "source": [
    "#### Feature Transform"
   ]
  },
  {
   "cell_type": "code",
   "execution_count": 21,
   "metadata": {
    "_cell_guid": "8358077d-8f08-4013-9232-4037ce04c397",
    "_uuid": "c2cb4f433cbcd5ffe9798d279ade1d508d7d8505"
   },
   "outputs": [],
   "source": [
    "def name(data):\n",
    "    data['name_len'] = data['name'].apply(lambda x: len(x))\n",
    "    data['name_title'] = data['name'].apply(lambda x: x.split(',')[1] if len(x.split(',')) > 1 else x.split(',')[0]).apply(lambda x: x.split()[0])\n",
    "    del data['name']\n",
    "    return data\n",
    "\n",
    "def age(data):\n",
    "    data['age_flag'] = data['age'].apply(lambda x: 1 if pd.isnull(x) else 0)\n",
    "    grouped_age = data.groupby(['name_title', 'pclass'])['age']\n",
    "    data['age'] = grouped_age.transform(lambda x: x.fillna(data['age'].mean()) if pd.isnull(x.mean()) else x.fillna(x.mean()))\n",
    "    return data\n",
    "\n",
    "def embark(data):\n",
    "    data['embarked'] = data['embarked'].fillna('Southampton')\n",
    "    return data\n",
    "\n",
    "\n",
    "def dummies(data, columns=['pclass','name_title','embarked', 'sex']):\n",
    "    for col in columns:\n",
    "        data[col] = data[col].apply(lambda x: str(x))\n",
    "        new_cols = [col + '_' + i for i in data[col].unique()]\n",
    "        data = pd.concat([data, pd.get_dummies(data[col], prefix=col)[new_cols]], axis=1)\n",
    "        del data[col]\n",
    "    return data"
   ]
  },
  {
   "cell_type": "markdown",
   "metadata": {
    "_cell_guid": "f52b5c6d-5004-4f3a-b6be-b255e8126623",
    "_uuid": "24e205e85c2d9d322c7cfa7be898a955663c735d"
   },
   "source": [
    "#### preprocessing  \n",
    "- drop unnecessary features \n",
    "- transform some kinds of features"
   ]
  },
  {
   "cell_type": "code",
   "execution_count": 22,
   "metadata": {
    "_cell_guid": "61f82890-f281-4f8d-ba01-a1f458d9f886",
    "_uuid": "02284b29107a79e71ef69f2a51c7d76f60f526f8"
   },
   "outputs": [
    {
     "data": {
      "text/html": [
       "<div>\n",
       "<style scoped>\n",
       "    .dataframe tbody tr th:only-of-type {\n",
       "        vertical-align: middle;\n",
       "    }\n",
       "\n",
       "    .dataframe tbody tr th {\n",
       "        vertical-align: top;\n",
       "    }\n",
       "\n",
       "    .dataframe thead th {\n",
       "        text-align: right;\n",
       "    }\n",
       "</style>\n",
       "<table border=\"1\" class=\"dataframe\">\n",
       "  <thead>\n",
       "    <tr style=\"text-align: right;\">\n",
       "      <th></th>\n",
       "      <th>pclass</th>\n",
       "      <th>survived</th>\n",
       "      <th>name</th>\n",
       "      <th>age</th>\n",
       "      <th>embarked</th>\n",
       "      <th>sex</th>\n",
       "      <th>name_title</th>\n",
       "      <th>name_len</th>\n",
       "    </tr>\n",
       "  </thead>\n",
       "  <tbody>\n",
       "    <tr>\n",
       "      <th>0</th>\n",
       "      <td>1st</td>\n",
       "      <td>1</td>\n",
       "      <td>Allen, Miss Elisabeth Walton</td>\n",
       "      <td>29.0000</td>\n",
       "      <td>Southampton</td>\n",
       "      <td>female</td>\n",
       "      <td>Miss</td>\n",
       "      <td>28</td>\n",
       "    </tr>\n",
       "    <tr>\n",
       "      <th>1</th>\n",
       "      <td>1st</td>\n",
       "      <td>0</td>\n",
       "      <td>Allison, Miss Helen Loraine</td>\n",
       "      <td>2.0000</td>\n",
       "      <td>Southampton</td>\n",
       "      <td>female</td>\n",
       "      <td>Miss</td>\n",
       "      <td>27</td>\n",
       "    </tr>\n",
       "    <tr>\n",
       "      <th>2</th>\n",
       "      <td>1st</td>\n",
       "      <td>0</td>\n",
       "      <td>Allison, Mr Hudson Joshua Creighton</td>\n",
       "      <td>30.0000</td>\n",
       "      <td>Southampton</td>\n",
       "      <td>male</td>\n",
       "      <td>Mr</td>\n",
       "      <td>35</td>\n",
       "    </tr>\n",
       "    <tr>\n",
       "      <th>3</th>\n",
       "      <td>1st</td>\n",
       "      <td>0</td>\n",
       "      <td>Allison, Mrs Hudson J.C. (Bessie Waldo Daniels)</td>\n",
       "      <td>25.0000</td>\n",
       "      <td>Southampton</td>\n",
       "      <td>female</td>\n",
       "      <td>Mrs</td>\n",
       "      <td>47</td>\n",
       "    </tr>\n",
       "    <tr>\n",
       "      <th>4</th>\n",
       "      <td>1st</td>\n",
       "      <td>1</td>\n",
       "      <td>Allison, Master Hudson Trevor</td>\n",
       "      <td>0.9167</td>\n",
       "      <td>Southampton</td>\n",
       "      <td>male</td>\n",
       "      <td>Master</td>\n",
       "      <td>29</td>\n",
       "    </tr>\n",
       "  </tbody>\n",
       "</table>\n",
       "</div>"
      ],
      "text/plain": [
       "  pclass  survived                                             name      age  \\\n",
       "0    1st         1                     Allen, Miss Elisabeth Walton  29.0000   \n",
       "1    1st         0                      Allison, Miss Helen Loraine   2.0000   \n",
       "2    1st         0              Allison, Mr Hudson Joshua Creighton  30.0000   \n",
       "3    1st         0  Allison, Mrs Hudson J.C. (Bessie Waldo Daniels)  25.0000   \n",
       "4    1st         1                    Allison, Master Hudson Trevor   0.9167   \n",
       "\n",
       "      embarked     sex name_title  name_len  \n",
       "0  Southampton  female       Miss        28  \n",
       "1  Southampton  female       Miss        27  \n",
       "2  Southampton    male         Mr        35  \n",
       "3  Southampton  female        Mrs        47  \n",
       "4  Southampton    male     Master        29  "
      ]
     },
     "execution_count": 22,
     "metadata": {},
     "output_type": "execute_result"
    }
   ],
   "source": [
    "drop_columns = ['row.names', 'home.dest', 'room', 'ticket', 'boat'] #+ ['ticket_len', 'ticket_title']\n",
    "data = data.drop(drop_columns, axis=1)\n",
    "data.head()"
   ]
  },
  {
   "cell_type": "code",
   "execution_count": 23,
   "metadata": {
    "_cell_guid": "c5e09952-1b50-4e5d-9eff-d21d576f92f4",
    "_uuid": "eda8da0a4affb223230b6bd28c97a6e437b5731e"
   },
   "outputs": [
    {
     "data": {
      "text/html": [
       "<div>\n",
       "<style scoped>\n",
       "    .dataframe tbody tr th:only-of-type {\n",
       "        vertical-align: middle;\n",
       "    }\n",
       "\n",
       "    .dataframe tbody tr th {\n",
       "        vertical-align: top;\n",
       "    }\n",
       "\n",
       "    .dataframe thead th {\n",
       "        text-align: right;\n",
       "    }\n",
       "</style>\n",
       "<table border=\"1\" class=\"dataframe\">\n",
       "  <thead>\n",
       "    <tr style=\"text-align: right;\">\n",
       "      <th></th>\n",
       "      <th>survived</th>\n",
       "      <th>age</th>\n",
       "      <th>name_len</th>\n",
       "      <th>age_flag</th>\n",
       "      <th>pclass_1st</th>\n",
       "      <th>pclass_2nd</th>\n",
       "      <th>pclass_3rd</th>\n",
       "      <th>name_title_Miss</th>\n",
       "      <th>name_title_Mr</th>\n",
       "      <th>name_title_Mrs</th>\n",
       "      <th>...</th>\n",
       "      <th>name_title_Simon</th>\n",
       "      <th>name_title_William</th>\n",
       "      <th>name_title_Seman</th>\n",
       "      <th>name_title_Rene</th>\n",
       "      <th>name_title_Leo</th>\n",
       "      <th>embarked_Southampton</th>\n",
       "      <th>embarked_Cherbourg</th>\n",
       "      <th>embarked_Queenstown</th>\n",
       "      <th>sex_female</th>\n",
       "      <th>sex_male</th>\n",
       "    </tr>\n",
       "  </thead>\n",
       "  <tbody>\n",
       "    <tr>\n",
       "      <th>0</th>\n",
       "      <td>1</td>\n",
       "      <td>29.0000</td>\n",
       "      <td>28</td>\n",
       "      <td>0</td>\n",
       "      <td>1</td>\n",
       "      <td>0</td>\n",
       "      <td>0</td>\n",
       "      <td>1</td>\n",
       "      <td>0</td>\n",
       "      <td>0</td>\n",
       "      <td>...</td>\n",
       "      <td>0</td>\n",
       "      <td>0</td>\n",
       "      <td>0</td>\n",
       "      <td>0</td>\n",
       "      <td>0</td>\n",
       "      <td>1</td>\n",
       "      <td>0</td>\n",
       "      <td>0</td>\n",
       "      <td>1</td>\n",
       "      <td>0</td>\n",
       "    </tr>\n",
       "    <tr>\n",
       "      <th>1</th>\n",
       "      <td>0</td>\n",
       "      <td>2.0000</td>\n",
       "      <td>27</td>\n",
       "      <td>0</td>\n",
       "      <td>1</td>\n",
       "      <td>0</td>\n",
       "      <td>0</td>\n",
       "      <td>1</td>\n",
       "      <td>0</td>\n",
       "      <td>0</td>\n",
       "      <td>...</td>\n",
       "      <td>0</td>\n",
       "      <td>0</td>\n",
       "      <td>0</td>\n",
       "      <td>0</td>\n",
       "      <td>0</td>\n",
       "      <td>1</td>\n",
       "      <td>0</td>\n",
       "      <td>0</td>\n",
       "      <td>1</td>\n",
       "      <td>0</td>\n",
       "    </tr>\n",
       "    <tr>\n",
       "      <th>2</th>\n",
       "      <td>0</td>\n",
       "      <td>30.0000</td>\n",
       "      <td>35</td>\n",
       "      <td>0</td>\n",
       "      <td>1</td>\n",
       "      <td>0</td>\n",
       "      <td>0</td>\n",
       "      <td>0</td>\n",
       "      <td>1</td>\n",
       "      <td>0</td>\n",
       "      <td>...</td>\n",
       "      <td>0</td>\n",
       "      <td>0</td>\n",
       "      <td>0</td>\n",
       "      <td>0</td>\n",
       "      <td>0</td>\n",
       "      <td>1</td>\n",
       "      <td>0</td>\n",
       "      <td>0</td>\n",
       "      <td>0</td>\n",
       "      <td>1</td>\n",
       "    </tr>\n",
       "    <tr>\n",
       "      <th>3</th>\n",
       "      <td>0</td>\n",
       "      <td>25.0000</td>\n",
       "      <td>47</td>\n",
       "      <td>0</td>\n",
       "      <td>1</td>\n",
       "      <td>0</td>\n",
       "      <td>0</td>\n",
       "      <td>0</td>\n",
       "      <td>0</td>\n",
       "      <td>1</td>\n",
       "      <td>...</td>\n",
       "      <td>0</td>\n",
       "      <td>0</td>\n",
       "      <td>0</td>\n",
       "      <td>0</td>\n",
       "      <td>0</td>\n",
       "      <td>1</td>\n",
       "      <td>0</td>\n",
       "      <td>0</td>\n",
       "      <td>1</td>\n",
       "      <td>0</td>\n",
       "    </tr>\n",
       "    <tr>\n",
       "      <th>4</th>\n",
       "      <td>1</td>\n",
       "      <td>0.9167</td>\n",
       "      <td>29</td>\n",
       "      <td>0</td>\n",
       "      <td>1</td>\n",
       "      <td>0</td>\n",
       "      <td>0</td>\n",
       "      <td>0</td>\n",
       "      <td>0</td>\n",
       "      <td>0</td>\n",
       "      <td>...</td>\n",
       "      <td>0</td>\n",
       "      <td>0</td>\n",
       "      <td>0</td>\n",
       "      <td>0</td>\n",
       "      <td>0</td>\n",
       "      <td>1</td>\n",
       "      <td>0</td>\n",
       "      <td>0</td>\n",
       "      <td>0</td>\n",
       "      <td>1</td>\n",
       "    </tr>\n",
       "  </tbody>\n",
       "</table>\n",
       "<p>5 rows × 55 columns</p>\n",
       "</div>"
      ],
      "text/plain": [
       "   survived      age  name_len  age_flag  pclass_1st  pclass_2nd  pclass_3rd  \\\n",
       "0         1  29.0000        28         0           1           0           0   \n",
       "1         0   2.0000        27         0           1           0           0   \n",
       "2         0  30.0000        35         0           1           0           0   \n",
       "3         0  25.0000        47         0           1           0           0   \n",
       "4         1   0.9167        29         0           1           0           0   \n",
       "\n",
       "   name_title_Miss  name_title_Mr  name_title_Mrs  ...  name_title_Simon  \\\n",
       "0                1              0               0  ...                 0   \n",
       "1                1              0               0  ...                 0   \n",
       "2                0              1               0  ...                 0   \n",
       "3                0              0               1  ...                 0   \n",
       "4                0              0               0  ...                 0   \n",
       "\n",
       "   name_title_William  name_title_Seman  name_title_Rene  name_title_Leo  \\\n",
       "0                   0                 0                0               0   \n",
       "1                   0                 0                0               0   \n",
       "2                   0                 0                0               0   \n",
       "3                   0                 0                0               0   \n",
       "4                   0                 0                0               0   \n",
       "\n",
       "   embarked_Southampton  embarked_Cherbourg  embarked_Queenstown  sex_female  \\\n",
       "0                     1                   0                    0           1   \n",
       "1                     1                   0                    0           1   \n",
       "2                     1                   0                    0           0   \n",
       "3                     1                   0                    0           1   \n",
       "4                     1                   0                    0           0   \n",
       "\n",
       "   sex_male  \n",
       "0         0  \n",
       "1         0  \n",
       "2         1  \n",
       "3         0  \n",
       "4         1  \n",
       "\n",
       "[5 rows x 55 columns]"
      ]
     },
     "execution_count": 23,
     "metadata": {},
     "output_type": "execute_result"
    }
   ],
   "source": [
    "data = name(data)\n",
    "data = age(data)\n",
    "data = embark(data)\n",
    "data = dummies(data)\n",
    "data.head()"
   ]
  },
  {
   "cell_type": "markdown",
   "metadata": {
    "_cell_guid": "d03f0056-8590-4ac7-9c27-164218736096",
    "_uuid": "e6128d33c172764502ffd37c85711ad6d9c4a16b"
   },
   "source": [
    "#### Training with decision tree model"
   ]
  },
  {
   "cell_type": "code",
   "execution_count": 24,
   "metadata": {
    "_cell_guid": "5fe4e4b6-3109-416f-a08f-b9804e60d5e2",
    "_uuid": "54d449867bb6f0af888b7e865188b32d7e081747"
   },
   "outputs": [
    {
     "data": {
      "text/plain": [
       "DecisionTreeClassifier(ccp_alpha=0.0, class_weight=None, criterion='entropy',\n",
       "                       max_depth=3, max_features=None, max_leaf_nodes=None,\n",
       "                       min_impurity_decrease=0.0, min_impurity_split=None,\n",
       "                       min_samples_leaf=5, min_samples_split=2,\n",
       "                       min_weight_fraction_leaf=0.0, presort='deprecated',\n",
       "                       random_state=None, splitter='best')"
      ]
     },
     "execution_count": 24,
     "metadata": {},
     "output_type": "execute_result"
    }
   ],
   "source": [
    "from sklearn.model_selection import train_test_split\n",
    "from sklearn import tree\n",
    "trainX, testX, trainY, testY = train_test_split(data.iloc[:,1:], data.iloc[:,0], test_size=0.2, random_state=33)\n",
    "\n",
    "model = tree.DecisionTreeClassifier(criterion='entropy', max_depth=3, min_samples_leaf=5)\n",
    "model.fit(trainX, trainY)"
   ]
  },
  {
   "cell_type": "code",
   "execution_count": 25,
   "metadata": {
    "_cell_guid": "5bac57f7-e243-4af1-820d-b09ce7c990e3",
    "_uuid": "ea5e29af3108d528c1c8255ac1eb75c36df9836e"
   },
   "outputs": [],
   "source": [
    "from sklearn import metrics\n",
    "def measure_performance(X, y, clf, show_accuracy=True, show_classification_report=True, show_confussion_matrix=True):\n",
    "    y_pred = clf.predict(X)\n",
    "    if show_accuracy:\n",
    "        print(\"Accuracy:{0:.3f}\".format(metrics.accuracy_score(y, y_pred)),\"\\n\")\n",
    "    \n",
    "    if show_classification_report:\n",
    "        print(\"Classification report\")\n",
    "        print(metrics.classification_report(y, y_pred), \"\\n\")\n",
    "    \n",
    "    if show_confussion_matrix:\n",
    "        print(\"Confusion matrix\")\n",
    "        print(metrics.confusion_matrix(y, y_pred), \"\\n\")"
   ]
  },
  {
   "cell_type": "code",
   "execution_count": 26,
   "metadata": {
    "_cell_guid": "8e49cbe4-083a-4007-98a3-0482b596012e",
    "_uuid": "73f3ed4e9164461a071b397d1cd5aee4e7d9a805"
   },
   "outputs": [
    {
     "name": "stdout",
     "output_type": "stream",
     "text": [
      "Accuracy:0.791 \n",
      "\n",
      "Classification report\n",
      "              precision    recall  f1-score   support\n",
      "\n",
      "           0       0.77      0.96      0.85       164\n",
      "           1       0.88      0.52      0.65        99\n",
      "\n",
      "    accuracy                           0.79       263\n",
      "   macro avg       0.82      0.74      0.75       263\n",
      "weighted avg       0.81      0.79      0.78       263\n",
      " \n",
      "\n",
      "Confusion matrix\n",
      "[[157   7]\n",
      " [ 48  51]] \n",
      "\n"
     ]
    }
   ],
   "source": [
    "measure_performance(testX, testY, model)"
   ]
  },
  {
   "cell_type": "markdown",
   "metadata": {
    "_cell_guid": "a615575c-85e6-44d7-b37d-ef315974eb44",
    "_uuid": "ce438a95d25df4728784fe6f26f0cf49cd7387eb"
   },
   "source": [
    "#### DT w/o feature engineering"
   ]
  },
  {
   "cell_type": "code",
   "execution_count": 27,
   "metadata": {
    "_cell_guid": "2a953dd9-78ff-4ad0-8e04-f6e47222ae7c",
    "_uuid": "c07b7ec768ddbde5582704632283e0245debc4c4"
   },
   "outputs": [
    {
     "data": {
      "text/plain": [
       "DecisionTreeClassifier(ccp_alpha=0.0, class_weight=None, criterion='entropy',\n",
       "                       max_depth=3, max_features=None, max_leaf_nodes=None,\n",
       "                       min_impurity_decrease=0.0, min_impurity_split=None,\n",
       "                       min_samples_leaf=5, min_samples_split=2,\n",
       "                       min_weight_fraction_leaf=0.0, presort='deprecated',\n",
       "                       random_state=None, splitter='best')"
      ]
     },
     "execution_count": 27,
     "metadata": {},
     "output_type": "execute_result"
    }
   ],
   "source": [
    "sub_columns = ['age', 'sex_male','sex_female']\n",
    "sub_trainX = trainX[sub_columns]\n",
    "sub_testX = testX[sub_columns]\n",
    "sub_model = tree.DecisionTreeClassifier(criterion='entropy', max_depth=3, min_samples_leaf=5)\n",
    "sub_model.fit(sub_trainX, trainY)"
   ]
  },
  {
   "cell_type": "code",
   "execution_count": 28,
   "metadata": {
    "_cell_guid": "c8130dc9-8ab0-47c5-8041-3311626e8285",
    "_uuid": "85de6ac3cd5e720c3e5f35560f176b79ae9832fc"
   },
   "outputs": [
    {
     "name": "stdout",
     "output_type": "stream",
     "text": [
      "Accuracy:0.768 \n",
      "\n",
      "Classification report\n",
      "              precision    recall  f1-score   support\n",
      "\n",
      "           0       0.79      0.85      0.82       164\n",
      "           1       0.72      0.64      0.67        99\n",
      "\n",
      "    accuracy                           0.77       263\n",
      "   macro avg       0.76      0.74      0.75       263\n",
      "weighted avg       0.76      0.77      0.77       263\n",
      " \n",
      "\n",
      "Confusion matrix\n",
      "[[139  25]\n",
      " [ 36  63]] \n",
      "\n"
     ]
    }
   ],
   "source": [
    "measure_performance(sub_testX, testY, sub_model)"
   ]
  },
  {
   "cell_type": "markdown",
   "metadata": {
    "_cell_guid": "23b37209-43d1-4b5c-9392-61682ed35f2d",
    "_uuid": "d548cdba74178d76942b47d420ea0faaec9be326"
   },
   "source": [
    "#### visualizaion of DT"
   ]
  },
  {
   "cell_type": "code",
   "execution_count": 31,
   "metadata": {
    "_cell_guid": "efb6b8d5-5dca-4903-81f3-5563d576bb9d",
    "_uuid": "cbb8f8da498c9777d433623847d366b19c42d9bb"
   },
   "outputs": [
    {
     "data": {
      "text/plain": [
       "'Source.gv.pdf'"
      ]
     },
     "execution_count": 31,
     "metadata": {},
     "output_type": "execute_result"
    }
   ],
   "source": [
    "import graphviz\n",
    "dot_data = tree.export_graphviz(model, out_file=None, feature_names=trainX.columns) \n",
    "graph = graphviz.Source(dot_data) \n",
    "# graph.render(\"titanic\") \n",
    "graph.view()"
   ]
  },
  {
   "cell_type": "markdown",
   "metadata": {
    "_cell_guid": "234c1dce-cdfd-40bc-9629-35f30b742678",
    "_uuid": "d540972036acb877439a19c9f2a1ed034376c55e"
   },
   "source": [
    "#### display graph inline"
   ]
  },
  {
   "cell_type": "code",
   "execution_count": 32,
   "metadata": {
    "_cell_guid": "df2a419a-c580-4b91-86bd-9cb02a960141",
    "_uuid": "84274e98ad1a2211c68e5f976ee0f411d9c4ea20"
   },
   "outputs": [
    {
     "data": {
      "image/svg+xml": [
       "<?xml version=\"1.0\" encoding=\"UTF-8\" standalone=\"no\"?>\n",
       "<!DOCTYPE svg PUBLIC \"-//W3C//DTD SVG 1.1//EN\"\n",
       " \"http://www.w3.org/Graphics/SVG/1.1/DTD/svg11.dtd\">\n",
       "<!-- Generated by graphviz version 2.42.3 (20191010.1750)\n",
       " -->\n",
       "<!-- Title: Tree Pages: 1 -->\n",
       "<svg width=\"985pt\" height=\"358pt\"\n",
       " viewBox=\"0.00 0.00 985.35 358.00\" xmlns=\"http://www.w3.org/2000/svg\" xmlns:xlink=\"http://www.w3.org/1999/xlink\">\n",
       "<g id=\"graph0\" class=\"graph\" transform=\"scale(1 1) rotate(0) translate(4 354)\">\n",
       "<title>Tree</title>\n",
       "<polygon fill=\"white\" stroke=\"transparent\" points=\"-4,4 -4,-354 981.35,-354 981.35,4 -4,4\"/>\n",
       "<!-- 0 -->\n",
       "<g id=\"node1\" class=\"node\">\n",
       "<title>0</title>\n",
       "<polygon fill=\"none\" stroke=\"black\" points=\"537.62,-350 417.54,-350 417.54,-286 537.62,-286 537.62,-350\"/>\n",
       "<text text-anchor=\"middle\" x=\"477.58\" y=\"-334.8\" font-family=\"Times,serif\" font-size=\"14.00\">sex_female &lt;= 0.5</text>\n",
       "<text text-anchor=\"middle\" x=\"477.58\" y=\"-320.8\" font-family=\"Times,serif\" font-size=\"14.00\">entropy = 0.918</text>\n",
       "<text text-anchor=\"middle\" x=\"477.58\" y=\"-306.8\" font-family=\"Times,serif\" font-size=\"14.00\">samples = 1050</text>\n",
       "<text text-anchor=\"middle\" x=\"477.58\" y=\"-292.8\" font-family=\"Times,serif\" font-size=\"14.00\">value = [700, 350]</text>\n",
       "</g>\n",
       "<!-- 1 -->\n",
       "<g id=\"node2\" class=\"node\">\n",
       "<title>1</title>\n",
       "<polygon fill=\"none\" stroke=\"black\" points=\"417.12,-250 298.04,-250 298.04,-186 417.12,-186 417.12,-250\"/>\n",
       "<text text-anchor=\"middle\" x=\"357.58\" y=\"-234.8\" font-family=\"Times,serif\" font-size=\"14.00\">pclass_1st &lt;= 0.5</text>\n",
       "<text text-anchor=\"middle\" x=\"357.58\" y=\"-220.8\" font-family=\"Times,serif\" font-size=\"14.00\">entropy = 0.623</text>\n",
       "<text text-anchor=\"middle\" x=\"357.58\" y=\"-206.8\" font-family=\"Times,serif\" font-size=\"14.00\">samples = 689</text>\n",
       "<text text-anchor=\"middle\" x=\"357.58\" y=\"-192.8\" font-family=\"Times,serif\" font-size=\"14.00\">value = [582, 107]</text>\n",
       "</g>\n",
       "<!-- 0&#45;&gt;1 -->\n",
       "<g id=\"edge1\" class=\"edge\">\n",
       "<title>0&#45;&gt;1</title>\n",
       "<path fill=\"none\" stroke=\"black\" d=\"M439.61,-285.99C428.23,-276.7 415.62,-266.4 403.77,-256.72\"/>\n",
       "<polygon fill=\"black\" stroke=\"black\" points=\"405.67,-253.76 395.71,-250.14 401.25,-259.18 405.67,-253.76\"/>\n",
       "<text text-anchor=\"middle\" x=\"398.22\" y=\"-270.82\" font-family=\"Times,serif\" font-size=\"14.00\">True</text>\n",
       "</g>\n",
       "<!-- 8 -->\n",
       "<g id=\"node9\" class=\"node\">\n",
       "<title>8</title>\n",
       "<polygon fill=\"none\" stroke=\"black\" points=\"665.1,-250 546.06,-250 546.06,-186 665.1,-186 665.1,-250\"/>\n",
       "<text text-anchor=\"middle\" x=\"605.58\" y=\"-234.8\" font-family=\"Times,serif\" font-size=\"14.00\">pclass_3rd &lt;= 0.5</text>\n",
       "<text text-anchor=\"middle\" x=\"605.58\" y=\"-220.8\" font-family=\"Times,serif\" font-size=\"14.00\">entropy = 0.912</text>\n",
       "<text text-anchor=\"middle\" x=\"605.58\" y=\"-206.8\" font-family=\"Times,serif\" font-size=\"14.00\">samples = 361</text>\n",
       "<text text-anchor=\"middle\" x=\"605.58\" y=\"-192.8\" font-family=\"Times,serif\" font-size=\"14.00\">value = [118, 243]</text>\n",
       "</g>\n",
       "<!-- 0&#45;&gt;8 -->\n",
       "<g id=\"edge8\" class=\"edge\">\n",
       "<title>0&#45;&gt;8</title>\n",
       "<path fill=\"none\" stroke=\"black\" d=\"M518.08,-285.99C530.34,-276.61 543.93,-266.2 556.67,-256.44\"/>\n",
       "<polygon fill=\"black\" stroke=\"black\" points=\"559.09,-259 564.9,-250.14 554.84,-253.44 559.09,-259\"/>\n",
       "<text text-anchor=\"middle\" x=\"561.61\" y=\"-270.73\" font-family=\"Times,serif\" font-size=\"14.00\">False</text>\n",
       "</g>\n",
       "<!-- 2 -->\n",
       "<g id=\"node3\" class=\"node\">\n",
       "<title>2</title>\n",
       "<polygon fill=\"none\" stroke=\"black\" points=\"235.62,-150 123.54,-150 123.54,-86 235.62,-86 235.62,-150\"/>\n",
       "<text text-anchor=\"middle\" x=\"179.58\" y=\"-134.8\" font-family=\"Times,serif\" font-size=\"14.00\">age &lt;= 3.5</text>\n",
       "<text text-anchor=\"middle\" x=\"179.58\" y=\"-120.8\" font-family=\"Times,serif\" font-size=\"14.00\">entropy = 0.506</text>\n",
       "<text text-anchor=\"middle\" x=\"179.58\" y=\"-106.8\" font-family=\"Times,serif\" font-size=\"14.00\">samples = 545</text>\n",
       "<text text-anchor=\"middle\" x=\"179.58\" y=\"-92.8\" font-family=\"Times,serif\" font-size=\"14.00\">value = [484, 61]</text>\n",
       "</g>\n",
       "<!-- 1&#45;&gt;2 -->\n",
       "<g id=\"edge2\" class=\"edge\">\n",
       "<title>1&#45;&gt;2</title>\n",
       "<path fill=\"none\" stroke=\"black\" d=\"M301.26,-185.99C283.32,-176.11 263.32,-165.1 244.8,-154.91\"/>\n",
       "<polygon fill=\"black\" stroke=\"black\" points=\"246.29,-151.73 235.84,-149.97 242.91,-157.86 246.29,-151.73\"/>\n",
       "</g>\n",
       "<!-- 5 -->\n",
       "<g id=\"node6\" class=\"node\">\n",
       "<title>5</title>\n",
       "<polygon fill=\"none\" stroke=\"black\" points=\"410.12,-150 305.04,-150 305.04,-86 410.12,-86 410.12,-150\"/>\n",
       "<text text-anchor=\"middle\" x=\"357.58\" y=\"-134.8\" font-family=\"Times,serif\" font-size=\"14.00\">age &lt;= 54.5</text>\n",
       "<text text-anchor=\"middle\" x=\"357.58\" y=\"-120.8\" font-family=\"Times,serif\" font-size=\"14.00\">entropy = 0.904</text>\n",
       "<text text-anchor=\"middle\" x=\"357.58\" y=\"-106.8\" font-family=\"Times,serif\" font-size=\"14.00\">samples = 144</text>\n",
       "<text text-anchor=\"middle\" x=\"357.58\" y=\"-92.8\" font-family=\"Times,serif\" font-size=\"14.00\">value = [98, 46]</text>\n",
       "</g>\n",
       "<!-- 1&#45;&gt;5 -->\n",
       "<g id=\"edge5\" class=\"edge\">\n",
       "<title>1&#45;&gt;5</title>\n",
       "<path fill=\"none\" stroke=\"black\" d=\"M357.58,-185.99C357.58,-177.86 357.58,-168.96 357.58,-160.38\"/>\n",
       "<polygon fill=\"black\" stroke=\"black\" points=\"361.08,-160.14 357.58,-150.14 354.08,-160.14 361.08,-160.14\"/>\n",
       "</g>\n",
       "<!-- 3 -->\n",
       "<g id=\"node4\" class=\"node\">\n",
       "<title>3</title>\n",
       "<polygon fill=\"none\" stroke=\"black\" points=\"105.24,-50 -0.08,-50 -0.08,0 105.24,0 105.24,-50\"/>\n",
       "<text text-anchor=\"middle\" x=\"52.58\" y=\"-34.8\" font-family=\"Times,serif\" font-size=\"14.00\">entropy = 0.469</text>\n",
       "<text text-anchor=\"middle\" x=\"52.58\" y=\"-20.8\" font-family=\"Times,serif\" font-size=\"14.00\">samples = 10</text>\n",
       "<text text-anchor=\"middle\" x=\"52.58\" y=\"-6.8\" font-family=\"Times,serif\" font-size=\"14.00\">value = [1, 9]</text>\n",
       "</g>\n",
       "<!-- 2&#45;&gt;3 -->\n",
       "<g id=\"edge3\" class=\"edge\">\n",
       "<title>2&#45;&gt;3</title>\n",
       "<path fill=\"none\" stroke=\"black\" d=\"M136.23,-85.94C122.66,-76.22 107.73,-65.51 94.27,-55.88\"/>\n",
       "<polygon fill=\"black\" stroke=\"black\" points=\"96.28,-53.01 86.12,-50.03 92.21,-58.7 96.28,-53.01\"/>\n",
       "</g>\n",
       "<!-- 4 -->\n",
       "<g id=\"node5\" class=\"node\">\n",
       "<title>4</title>\n",
       "<polygon fill=\"none\" stroke=\"black\" points=\"235.62,-50 123.54,-50 123.54,0 235.62,0 235.62,-50\"/>\n",
       "<text text-anchor=\"middle\" x=\"179.58\" y=\"-34.8\" font-family=\"Times,serif\" font-size=\"14.00\">entropy = 0.46</text>\n",
       "<text text-anchor=\"middle\" x=\"179.58\" y=\"-20.8\" font-family=\"Times,serif\" font-size=\"14.00\">samples = 535</text>\n",
       "<text text-anchor=\"middle\" x=\"179.58\" y=\"-6.8\" font-family=\"Times,serif\" font-size=\"14.00\">value = [483, 52]</text>\n",
       "</g>\n",
       "<!-- 2&#45;&gt;4 -->\n",
       "<g id=\"edge4\" class=\"edge\">\n",
       "<title>2&#45;&gt;4</title>\n",
       "<path fill=\"none\" stroke=\"black\" d=\"M179.58,-85.94C179.58,-77.68 179.58,-68.72 179.58,-60.31\"/>\n",
       "<polygon fill=\"black\" stroke=\"black\" points=\"183.08,-60.03 179.58,-50.03 176.08,-60.03 183.08,-60.03\"/>\n",
       "</g>\n",
       "<!-- 6 -->\n",
       "<g id=\"node7\" class=\"node\">\n",
       "<title>6</title>\n",
       "<polygon fill=\"none\" stroke=\"black\" points=\"359.12,-50 254.04,-50 254.04,0 359.12,0 359.12,-50\"/>\n",
       "<text text-anchor=\"middle\" x=\"306.58\" y=\"-34.8\" font-family=\"Times,serif\" font-size=\"14.00\">entropy = 0.947</text>\n",
       "<text text-anchor=\"middle\" x=\"306.58\" y=\"-20.8\" font-family=\"Times,serif\" font-size=\"14.00\">samples = 126</text>\n",
       "<text text-anchor=\"middle\" x=\"306.58\" y=\"-6.8\" font-family=\"Times,serif\" font-size=\"14.00\">value = [80, 46]</text>\n",
       "</g>\n",
       "<!-- 5&#45;&gt;6 -->\n",
       "<g id=\"edge6\" class=\"edge\">\n",
       "<title>5&#45;&gt;6</title>\n",
       "<path fill=\"none\" stroke=\"black\" d=\"M340.17,-85.94C335.29,-77.22 329.96,-67.72 325.02,-58.91\"/>\n",
       "<polygon fill=\"black\" stroke=\"black\" points=\"327.99,-57.04 320.05,-50.03 321.88,-60.46 327.99,-57.04\"/>\n",
       "</g>\n",
       "<!-- 7 -->\n",
       "<g id=\"node8\" class=\"node\">\n",
       "<title>7</title>\n",
       "<polygon fill=\"none\" stroke=\"black\" points=\"475.62,-50 377.54,-50 377.54,0 475.62,0 475.62,-50\"/>\n",
       "<text text-anchor=\"middle\" x=\"426.58\" y=\"-34.8\" font-family=\"Times,serif\" font-size=\"14.00\">entropy = 0.0</text>\n",
       "<text text-anchor=\"middle\" x=\"426.58\" y=\"-20.8\" font-family=\"Times,serif\" font-size=\"14.00\">samples = 18</text>\n",
       "<text text-anchor=\"middle\" x=\"426.58\" y=\"-6.8\" font-family=\"Times,serif\" font-size=\"14.00\">value = [18, 0]</text>\n",
       "</g>\n",
       "<!-- 5&#45;&gt;7 -->\n",
       "<g id=\"edge7\" class=\"edge\">\n",
       "<title>5&#45;&gt;7</title>\n",
       "<path fill=\"none\" stroke=\"black\" d=\"M381.13,-85.94C387.95,-76.95 395.4,-67.12 402.26,-58.07\"/>\n",
       "<polygon fill=\"black\" stroke=\"black\" points=\"405.11,-60.11 408.36,-50.03 399.53,-55.88 405.11,-60.11\"/>\n",
       "</g>\n",
       "<!-- 9 -->\n",
       "<g id=\"node10\" class=\"node\">\n",
       "<title>9</title>\n",
       "<polygon fill=\"none\" stroke=\"black\" points=\"664.29,-150 546.87,-150 546.87,-86 664.29,-86 664.29,-150\"/>\n",
       "<text text-anchor=\"middle\" x=\"605.58\" y=\"-134.8\" font-family=\"Times,serif\" font-size=\"14.00\">name_len &lt;= 14.5</text>\n",
       "<text text-anchor=\"middle\" x=\"605.58\" y=\"-120.8\" font-family=\"Times,serif\" font-size=\"14.00\">entropy = 0.391</text>\n",
       "<text text-anchor=\"middle\" x=\"605.58\" y=\"-106.8\" font-family=\"Times,serif\" font-size=\"14.00\">samples = 195</text>\n",
       "<text text-anchor=\"middle\" x=\"605.58\" y=\"-92.8\" font-family=\"Times,serif\" font-size=\"14.00\">value = [15, 180]</text>\n",
       "</g>\n",
       "<!-- 8&#45;&gt;9 -->\n",
       "<g id=\"edge9\" class=\"edge\">\n",
       "<title>8&#45;&gt;9</title>\n",
       "<path fill=\"none\" stroke=\"black\" d=\"M605.58,-185.99C605.58,-177.86 605.58,-168.96 605.58,-160.38\"/>\n",
       "<polygon fill=\"black\" stroke=\"black\" points=\"609.08,-160.14 605.58,-150.14 602.08,-160.14 609.08,-160.14\"/>\n",
       "</g>\n",
       "<!-- 12 -->\n",
       "<g id=\"node13\" class=\"node\">\n",
       "<title>12</title>\n",
       "<polygon fill=\"none\" stroke=\"black\" points=\"859.29,-150 741.87,-150 741.87,-86 859.29,-86 859.29,-150\"/>\n",
       "<text text-anchor=\"middle\" x=\"800.58\" y=\"-134.8\" font-family=\"Times,serif\" font-size=\"14.00\">name_len &lt;= 18.5</text>\n",
       "<text text-anchor=\"middle\" x=\"800.58\" y=\"-120.8\" font-family=\"Times,serif\" font-size=\"14.00\">entropy = 0.958</text>\n",
       "<text text-anchor=\"middle\" x=\"800.58\" y=\"-106.8\" font-family=\"Times,serif\" font-size=\"14.00\">samples = 166</text>\n",
       "<text text-anchor=\"middle\" x=\"800.58\" y=\"-92.8\" font-family=\"Times,serif\" font-size=\"14.00\">value = [103, 63]</text>\n",
       "</g>\n",
       "<!-- 8&#45;&gt;12 -->\n",
       "<g id=\"edge12\" class=\"edge\">\n",
       "<title>8&#45;&gt;12</title>\n",
       "<path fill=\"none\" stroke=\"black\" d=\"M665.15,-187.06C686.51,-176.33 710.75,-164.15 732.76,-153.09\"/>\n",
       "<polygon fill=\"black\" stroke=\"black\" points=\"734.35,-156.2 741.71,-148.58 731.21,-149.95 734.35,-156.2\"/>\n",
       "</g>\n",
       "<!-- 10 -->\n",
       "<g id=\"node11\" class=\"node\">\n",
       "<title>10</title>\n",
       "<polygon fill=\"none\" stroke=\"black\" points=\"599.24,-50 493.92,-50 493.92,0 599.24,0 599.24,-50\"/>\n",
       "<text text-anchor=\"middle\" x=\"546.58\" y=\"-34.8\" font-family=\"Times,serif\" font-size=\"14.00\">entropy = 0.985</text>\n",
       "<text text-anchor=\"middle\" x=\"546.58\" y=\"-20.8\" font-family=\"Times,serif\" font-size=\"14.00\">samples = 7</text>\n",
       "<text text-anchor=\"middle\" x=\"546.58\" y=\"-6.8\" font-family=\"Times,serif\" font-size=\"14.00\">value = [4, 3]</text>\n",
       "</g>\n",
       "<!-- 9&#45;&gt;10 -->\n",
       "<g id=\"edge10\" class=\"edge\">\n",
       "<title>9&#45;&gt;10</title>\n",
       "<path fill=\"none\" stroke=\"black\" d=\"M585.44,-85.94C579.73,-77.13 573.5,-67.52 567.74,-58.63\"/>\n",
       "<polygon fill=\"black\" stroke=\"black\" points=\"570.54,-56.52 562.16,-50.03 564.66,-60.32 570.54,-56.52\"/>\n",
       "</g>\n",
       "<!-- 11 -->\n",
       "<g id=\"node12\" class=\"node\">\n",
       "<title>11</title>\n",
       "<polygon fill=\"none\" stroke=\"black\" points=\"729.6,-50 617.56,-50 617.56,0 729.6,0 729.6,-50\"/>\n",
       "<text text-anchor=\"middle\" x=\"673.58\" y=\"-34.8\" font-family=\"Times,serif\" font-size=\"14.00\">entropy = 0.322</text>\n",
       "<text text-anchor=\"middle\" x=\"673.58\" y=\"-20.8\" font-family=\"Times,serif\" font-size=\"14.00\">samples = 188</text>\n",
       "<text text-anchor=\"middle\" x=\"673.58\" y=\"-6.8\" font-family=\"Times,serif\" font-size=\"14.00\">value = [11, 177]</text>\n",
       "</g>\n",
       "<!-- 9&#45;&gt;11 -->\n",
       "<g id=\"edge11\" class=\"edge\">\n",
       "<title>9&#45;&gt;11</title>\n",
       "<path fill=\"none\" stroke=\"black\" d=\"M628.79,-85.94C635.51,-76.95 642.85,-67.12 649.61,-58.07\"/>\n",
       "<polygon fill=\"black\" stroke=\"black\" points=\"652.44,-60.14 655.62,-50.03 646.83,-55.95 652.44,-60.14\"/>\n",
       "</g>\n",
       "<!-- 13 -->\n",
       "<g id=\"node14\" class=\"node\">\n",
       "<title>13</title>\n",
       "<polygon fill=\"none\" stroke=\"black\" points=\"853.12,-50 748.04,-50 748.04,0 853.12,0 853.12,-50\"/>\n",
       "<text text-anchor=\"middle\" x=\"800.58\" y=\"-34.8\" font-family=\"Times,serif\" font-size=\"14.00\">entropy = 0.782</text>\n",
       "<text text-anchor=\"middle\" x=\"800.58\" y=\"-20.8\" font-family=\"Times,serif\" font-size=\"14.00\">samples = 43</text>\n",
       "<text text-anchor=\"middle\" x=\"800.58\" y=\"-6.8\" font-family=\"Times,serif\" font-size=\"14.00\">value = [33, 10]</text>\n",
       "</g>\n",
       "<!-- 12&#45;&gt;13 -->\n",
       "<g id=\"edge13\" class=\"edge\">\n",
       "<title>12&#45;&gt;13</title>\n",
       "<path fill=\"none\" stroke=\"black\" d=\"M800.58,-85.94C800.58,-77.68 800.58,-68.72 800.58,-60.31\"/>\n",
       "<polygon fill=\"black\" stroke=\"black\" points=\"804.08,-60.03 800.58,-50.03 797.08,-60.03 804.08,-60.03\"/>\n",
       "</g>\n",
       "<!-- 14 -->\n",
       "<g id=\"node15\" class=\"node\">\n",
       "<title>14</title>\n",
       "<polygon fill=\"none\" stroke=\"black\" points=\"977.12,-50 872.04,-50 872.04,0 977.12,0 977.12,-50\"/>\n",
       "<text text-anchor=\"middle\" x=\"924.58\" y=\"-34.8\" font-family=\"Times,serif\" font-size=\"14.00\">entropy = 0.986</text>\n",
       "<text text-anchor=\"middle\" x=\"924.58\" y=\"-20.8\" font-family=\"Times,serif\" font-size=\"14.00\">samples = 123</text>\n",
       "<text text-anchor=\"middle\" x=\"924.58\" y=\"-6.8\" font-family=\"Times,serif\" font-size=\"14.00\">value = [70, 53]</text>\n",
       "</g>\n",
       "<!-- 12&#45;&gt;14 -->\n",
       "<g id=\"edge14\" class=\"edge\">\n",
       "<title>12&#45;&gt;14</title>\n",
       "<path fill=\"none\" stroke=\"black\" d=\"M842.91,-85.94C856.03,-76.31 870.46,-65.72 883.5,-56.15\"/>\n",
       "<polygon fill=\"black\" stroke=\"black\" points=\"885.85,-58.77 891.84,-50.03 881.7,-53.12 885.85,-58.77\"/>\n",
       "</g>\n",
       "</g>\n",
       "</svg>\n"
      ],
      "text/plain": [
       "<graphviz.files.Source at 0x1a1b503a10>"
      ]
     },
     "execution_count": 32,
     "metadata": {},
     "output_type": "execute_result"
    }
   ],
   "source": [
    "graph"
   ]
  },
  {
   "cell_type": "markdown",
   "metadata": {
    "_cell_guid": "d04b3e1f-1f47-414e-a684-17fe330b5514",
    "_uuid": "4c2cf7b5e96342412e20e34118608ee0da3d7fda",
    "collapsed": true
   },
   "source": [
    "#### feature importance"
   ]
  },
  {
   "cell_type": "code",
   "execution_count": 33,
   "metadata": {
    "_cell_guid": "8dd82fe1-c1e3-46de-9201-f45b02c576ac",
    "_uuid": "0abc70e05412ab6e9118d5183cd958920d186449",
    "scrolled": true
   },
   "outputs": [
    {
     "data": {
      "text/html": [
       "<div>\n",
       "<style scoped>\n",
       "    .dataframe tbody tr th:only-of-type {\n",
       "        vertical-align: middle;\n",
       "    }\n",
       "\n",
       "    .dataframe tbody tr th {\n",
       "        vertical-align: top;\n",
       "    }\n",
       "\n",
       "    .dataframe thead th {\n",
       "        text-align: right;\n",
       "    }\n",
       "</style>\n",
       "<table border=\"1\" class=\"dataframe\">\n",
       "  <thead>\n",
       "    <tr style=\"text-align: right;\">\n",
       "      <th></th>\n",
       "      <th>variable</th>\n",
       "      <th>importance</th>\n",
       "    </tr>\n",
       "  </thead>\n",
       "  <tbody>\n",
       "    <tr>\n",
       "      <th>52</th>\n",
       "      <td>sex_female</td>\n",
       "      <td>0.553725</td>\n",
       "    </tr>\n",
       "    <tr>\n",
       "      <th>5</th>\n",
       "      <td>pclass_3rd</td>\n",
       "      <td>0.252415</td>\n",
       "    </tr>\n",
       "    <tr>\n",
       "      <th>0</th>\n",
       "      <td>age</td>\n",
       "      <td>0.095847</td>\n",
       "    </tr>\n",
       "    <tr>\n",
       "      <th>3</th>\n",
       "      <td>pclass_1st</td>\n",
       "      <td>0.063084</td>\n",
       "    </tr>\n",
       "    <tr>\n",
       "      <th>1</th>\n",
       "      <td>name_len</td>\n",
       "      <td>0.034928</td>\n",
       "    </tr>\n",
       "    <tr>\n",
       "      <th>51</th>\n",
       "      <td>embarked_Queenstown</td>\n",
       "      <td>0.000000</td>\n",
       "    </tr>\n",
       "    <tr>\n",
       "      <th>39</th>\n",
       "      <td>name_title_Sander</td>\n",
       "      <td>0.000000</td>\n",
       "    </tr>\n",
       "    <tr>\n",
       "      <th>30</th>\n",
       "      <td>name_title_Thomas</td>\n",
       "      <td>0.000000</td>\n",
       "    </tr>\n",
       "    <tr>\n",
       "      <th>31</th>\n",
       "      <td>name_title_Hilda</td>\n",
       "      <td>0.000000</td>\n",
       "    </tr>\n",
       "    <tr>\n",
       "      <th>32</th>\n",
       "      <td>name_title_Delia</td>\n",
       "      <td>0.000000</td>\n",
       "    </tr>\n",
       "    <tr>\n",
       "      <th>33</th>\n",
       "      <td>name_title_Jenny</td>\n",
       "      <td>0.000000</td>\n",
       "    </tr>\n",
       "    <tr>\n",
       "      <th>34</th>\n",
       "      <td>name_title_Oscar</td>\n",
       "      <td>0.000000</td>\n",
       "    </tr>\n",
       "    <tr>\n",
       "      <th>35</th>\n",
       "      <td>name_title_Nils</td>\n",
       "      <td>0.000000</td>\n",
       "    </tr>\n",
       "    <tr>\n",
       "      <th>36</th>\n",
       "      <td>name_title_Eino</td>\n",
       "      <td>0.000000</td>\n",
       "    </tr>\n",
       "    <tr>\n",
       "      <th>37</th>\n",
       "      <td>name_title_Albert</td>\n",
       "      <td>0.000000</td>\n",
       "    </tr>\n",
       "    <tr>\n",
       "      <th>38</th>\n",
       "      <td>name_title_W.</td>\n",
       "      <td>0.000000</td>\n",
       "    </tr>\n",
       "    <tr>\n",
       "      <th>40</th>\n",
       "      <td>name_title_Richard</td>\n",
       "      <td>0.000000</td>\n",
       "    </tr>\n",
       "    <tr>\n",
       "      <th>50</th>\n",
       "      <td>embarked_Cherbourg</td>\n",
       "      <td>0.000000</td>\n",
       "    </tr>\n",
       "    <tr>\n",
       "      <th>41</th>\n",
       "      <td>name_title_Mansouer</td>\n",
       "      <td>0.000000</td>\n",
       "    </tr>\n",
       "    <tr>\n",
       "      <th>29</th>\n",
       "      <td>name_title_Ernst</td>\n",
       "      <td>0.000000</td>\n",
       "    </tr>\n",
       "  </tbody>\n",
       "</table>\n",
       "</div>"
      ],
      "text/plain": [
       "               variable  importance\n",
       "52           sex_female    0.553725\n",
       "5            pclass_3rd    0.252415\n",
       "0                   age    0.095847\n",
       "3            pclass_1st    0.063084\n",
       "1              name_len    0.034928\n",
       "51  embarked_Queenstown    0.000000\n",
       "39    name_title_Sander    0.000000\n",
       "30    name_title_Thomas    0.000000\n",
       "31     name_title_Hilda    0.000000\n",
       "32     name_title_Delia    0.000000\n",
       "33     name_title_Jenny    0.000000\n",
       "34     name_title_Oscar    0.000000\n",
       "35      name_title_Nils    0.000000\n",
       "36      name_title_Eino    0.000000\n",
       "37    name_title_Albert    0.000000\n",
       "38        name_title_W.    0.000000\n",
       "40   name_title_Richard    0.000000\n",
       "50   embarked_Cherbourg    0.000000\n",
       "41  name_title_Mansouer    0.000000\n",
       "29     name_title_Ernst    0.000000"
      ]
     },
     "execution_count": 33,
     "metadata": {},
     "output_type": "execute_result"
    }
   ],
   "source": [
    "pd.concat([pd.DataFrame(trainX.columns, columns=['variable']),\n",
    "         pd.DataFrame(model.feature_importances_, columns=['importance'])],\n",
    "         axis=1).sort_values(by='importance', ascending=False)[:20]"
   ]
  },
  {
   "cell_type": "code",
   "execution_count": null,
   "metadata": {},
   "outputs": [],
   "source": []
  }
 ],
 "metadata": {
  "kernelspec": {
   "display_name": "Python 3",
   "language": "python",
   "name": "python3"
  },
  "language_info": {
   "codemirror_mode": {
    "name": "ipython",
    "version": 3
   },
   "file_extension": ".py",
   "mimetype": "text/x-python",
   "name": "python",
   "nbconvert_exporter": "python",
   "pygments_lexer": "ipython3",
   "version": "3.7.4"
  }
 },
 "nbformat": 4,
 "nbformat_minor": 1
}
